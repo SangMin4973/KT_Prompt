{
 "cells": [
  {
   "cell_type": "code",
   "execution_count": 2,
   "id": "22e02068",
   "metadata": {},
   "outputs": [
    {
     "name": "stdout",
     "output_type": "stream",
     "text": [
      "불러오는 중: result/확실성_불확실\\result_확실성_불확실.csv\n",
      "모든 CSV 파일이 merged_result.csv 로 저장되었습니다.\n"
     ]
    }
   ],
   "source": [
    "import os\n",
    "import pandas as pd\n",
    "# result 폴더 경로 지정\n",
    "base_path = \"result/확실성_불확실\"\n",
    "\n",
    "# CSV 파일들을 담을 리스트\n",
    "csv_list = []\n",
    "\n",
    "# result 폴더 내부 순회\n",
    "for root, dirs, files in os.walk(base_path):\n",
    "    for file in files:\n",
    "        if file.endswith(\".csv\"):  # CSV 파일만 선택\n",
    "            file_path = os.path.join(root, file)\n",
    "            print(f\"불러오는 중: {file_path}\")\n",
    "            df = pd.read_csv(file_path)\n",
    "            csv_list.append(df)\n",
    "\n",
    "# 모든 CSV 파일 합치기\n",
    "merged_df = pd.concat(csv_list, ignore_index=True)\n",
    "\n",
    "# 합쳐진 CSV 저장\n",
    "merged_df.to_csv(\"result_확실성_불확실.csv\", index=False, encoding=\"utf-8-sig\")\n",
    "\n",
    "print(\"모든 CSV 파일이 merged_result.csv 로 저장되었습니다.\")"
   ]
  },
  {
   "cell_type": "code",
   "execution_count": 14,
   "id": "3d198eb8",
   "metadata": {},
   "outputs": [
    {
     "data": {
      "text/html": [
       "<div>\n",
       "<style scoped>\n",
       "    .dataframe tbody tr th:only-of-type {\n",
       "        vertical-align: middle;\n",
       "    }\n",
       "\n",
       "    .dataframe tbody tr th {\n",
       "        vertical-align: top;\n",
       "    }\n",
       "\n",
       "    .dataframe thead th {\n",
       "        text-align: right;\n",
       "    }\n",
       "</style>\n",
       "<table border=\"1\" class=\"dataframe\">\n",
       "  <thead>\n",
       "    <tr style=\"text-align: right;\">\n",
       "      <th></th>\n",
       "      <th>index</th>\n",
       "      <th>user_prompt</th>\n",
       "      <th>유형</th>\n",
       "      <th>유형_예측</th>\n",
       "      <th>극성</th>\n",
       "      <th>극성_예측</th>\n",
       "      <th>시제</th>\n",
       "      <th>시제_예측</th>\n",
       "      <th>확실성</th>\n",
       "      <th>확실성_예측</th>\n",
       "    </tr>\n",
       "  </thead>\n",
       "  <tbody>\n",
       "    <tr>\n",
       "      <th>0</th>\n",
       "      <td>0</td>\n",
       "      <td>이러한 선거제도는 정당 득표율과 의석수가 비례하지 않고 사표(死票)가 발생하는 등 ...</td>\n",
       "      <td>대화형</td>\n",
       "      <td>추론형</td>\n",
       "      <td>긍정</td>\n",
       "      <td>부정</td>\n",
       "      <td>과거</td>\n",
       "      <td>과거</td>\n",
       "      <td>불확실</td>\n",
       "      <td>불확실</td>\n",
       "    </tr>\n",
       "    <tr>\n",
       "      <th>1</th>\n",
       "      <td>1</td>\n",
       "      <td>그들은 왜 그렇게 국적을 지키고 싶었을까.</td>\n",
       "      <td>대화형</td>\n",
       "      <td>대화형</td>\n",
       "      <td>긍정</td>\n",
       "      <td>긍정</td>\n",
       "      <td>과거</td>\n",
       "      <td>현재</td>\n",
       "      <td>불확실</td>\n",
       "      <td>불확실</td>\n",
       "    </tr>\n",
       "    <tr>\n",
       "      <th>2</th>\n",
       "      <td>2</td>\n",
       "      <td>문 대통령이 사전에도 없는 애매한 ＇고용 연장＇을 꺼내 말하고 싶었던 것은 이게 아...</td>\n",
       "      <td>대화형</td>\n",
       "      <td>추론형</td>\n",
       "      <td>긍정</td>\n",
       "      <td>긍정</td>\n",
       "      <td>과거</td>\n",
       "      <td>과거</td>\n",
       "      <td>불확실</td>\n",
       "      <td>불확실</td>\n",
       "    </tr>\n",
       "    <tr>\n",
       "      <th>3</th>\n",
       "      <td>3</td>\n",
       "      <td>두 사람의 공기 작업은 어떻게 시작됐을까.</td>\n",
       "      <td>대화형</td>\n",
       "      <td>대화형</td>\n",
       "      <td>긍정</td>\n",
       "      <td>긍정</td>\n",
       "      <td>과거</td>\n",
       "      <td>과거</td>\n",
       "      <td>불확실</td>\n",
       "      <td>불확실</td>\n",
       "    </tr>\n",
       "    <tr>\n",
       "      <th>4</th>\n",
       "      <td>4</td>\n",
       "      <td>웨지의 그루브가 한 달이면 닳아 없어질 정도로 많은 시간을 투자했다죠.</td>\n",
       "      <td>대화형</td>\n",
       "      <td>추론형</td>\n",
       "      <td>긍정</td>\n",
       "      <td>긍정</td>\n",
       "      <td>과거</td>\n",
       "      <td>과거</td>\n",
       "      <td>불확실</td>\n",
       "      <td>확실</td>\n",
       "    </tr>\n",
       "    <tr>\n",
       "      <th>...</th>\n",
       "      <td>...</td>\n",
       "      <td>...</td>\n",
       "      <td>...</td>\n",
       "      <td>...</td>\n",
       "      <td>...</td>\n",
       "      <td>...</td>\n",
       "      <td>...</td>\n",
       "      <td>...</td>\n",
       "      <td>...</td>\n",
       "      <td>...</td>\n",
       "    </tr>\n",
       "    <tr>\n",
       "      <th>968</th>\n",
       "      <td>0</td>\n",
       "      <td>＂OTT 사업을 처음부터 직접 키우려 했다면 쿠팡플레이의 ＇타임 투 마켓(Time ...</td>\n",
       "      <td>예측형</td>\n",
       "      <td>추론형</td>\n",
       "      <td>부정</td>\n",
       "      <td>긍정</td>\n",
       "      <td>과거</td>\n",
       "      <td>과거</td>\n",
       "      <td>확실</td>\n",
       "      <td>불확실</td>\n",
       "    </tr>\n",
       "    <tr>\n",
       "      <th>969</th>\n",
       "      <td>0</td>\n",
       "      <td>신종 코로나바이러스 감염증(우한 폐렴) 사태 수습과 내수 정상화에 힘써야 할 중국이...</td>\n",
       "      <td>예측형</td>\n",
       "      <td>추론형</td>\n",
       "      <td>부정</td>\n",
       "      <td>부정</td>\n",
       "      <td>미래</td>\n",
       "      <td>미래</td>\n",
       "      <td>불확실</td>\n",
       "      <td>불확실</td>\n",
       "    </tr>\n",
       "    <tr>\n",
       "      <th>970</th>\n",
       "      <td>1</td>\n",
       "      <td>확실히 백내장 진단을 받았어도 입원 치료를 받을 만큼 특별한 상황이었음을 입증하지 ...</td>\n",
       "      <td>예측형</td>\n",
       "      <td>추론형</td>\n",
       "      <td>부정</td>\n",
       "      <td>부정</td>\n",
       "      <td>미래</td>\n",
       "      <td>미래</td>\n",
       "      <td>불확실</td>\n",
       "      <td>불확실</td>\n",
       "    </tr>\n",
       "    <tr>\n",
       "      <th>971</th>\n",
       "      <td>2</td>\n",
       "      <td>결국 국내 은행들은 상대적으로 손쉬운 이자 장사에만 다시 몰두할 것이고, 외국인 투...</td>\n",
       "      <td>예측형</td>\n",
       "      <td>추론형</td>\n",
       "      <td>부정</td>\n",
       "      <td>부정</td>\n",
       "      <td>미래</td>\n",
       "      <td>미래</td>\n",
       "      <td>불확실</td>\n",
       "      <td>확실</td>\n",
       "    </tr>\n",
       "    <tr>\n",
       "      <th>972</th>\n",
       "      <td>0</td>\n",
       "      <td>이달 24~27일(현지시간) 스페인 바르셀로나에서 열리는 세계최대 모바일 전시회 모...</td>\n",
       "      <td>예측형</td>\n",
       "      <td>예측형</td>\n",
       "      <td>부정</td>\n",
       "      <td>부정</td>\n",
       "      <td>현재</td>\n",
       "      <td>미래</td>\n",
       "      <td>불확실</td>\n",
       "      <td>불확실</td>\n",
       "    </tr>\n",
       "  </tbody>\n",
       "</table>\n",
       "<p>973 rows × 10 columns</p>\n",
       "</div>"
      ],
      "text/plain": [
       "     index                                        user_prompt   유형 유형_예측  극성  \\\n",
       "0        0  이러한 선거제도는 정당 득표율과 의석수가 비례하지 않고 사표(死票)가 발생하는 등 ...  대화형   추론형  긍정   \n",
       "1        1                            그들은 왜 그렇게 국적을 지키고 싶었을까.  대화형   대화형  긍정   \n",
       "2        2  문 대통령이 사전에도 없는 애매한 ＇고용 연장＇을 꺼내 말하고 싶었던 것은 이게 아...  대화형   추론형  긍정   \n",
       "3        3                            두 사람의 공기 작업은 어떻게 시작됐을까.  대화형   대화형  긍정   \n",
       "4        4            웨지의 그루브가 한 달이면 닳아 없어질 정도로 많은 시간을 투자했다죠.  대화형   추론형  긍정   \n",
       "..     ...                                                ...  ...   ...  ..   \n",
       "968      0  ＂OTT 사업을 처음부터 직접 키우려 했다면 쿠팡플레이의 ＇타임 투 마켓(Time ...  예측형   추론형  부정   \n",
       "969      0  신종 코로나바이러스 감염증(우한 폐렴) 사태 수습과 내수 정상화에 힘써야 할 중국이...  예측형   추론형  부정   \n",
       "970      1  확실히 백내장 진단을 받았어도 입원 치료를 받을 만큼 특별한 상황이었음을 입증하지 ...  예측형   추론형  부정   \n",
       "971      2  결국 국내 은행들은 상대적으로 손쉬운 이자 장사에만 다시 몰두할 것이고, 외국인 투...  예측형   추론형  부정   \n",
       "972      0  이달 24~27일(현지시간) 스페인 바르셀로나에서 열리는 세계최대 모바일 전시회 모...  예측형   예측형  부정   \n",
       "\n",
       "    극성_예측  시제 시제_예측  확실성 확실성_예측  \n",
       "0      부정  과거    과거  불확실    불확실  \n",
       "1      긍정  과거    현재  불확실    불확실  \n",
       "2      긍정  과거    과거  불확실    불확실  \n",
       "3      긍정  과거    과거  불확실    불확실  \n",
       "4      긍정  과거    과거  불확실     확실  \n",
       "..    ...  ..   ...  ...    ...  \n",
       "968    긍정  과거    과거   확실    불확실  \n",
       "969    부정  미래    미래  불확실    불확실  \n",
       "970    부정  미래    미래  불확실    불확실  \n",
       "971    부정  미래    미래  불확실     확실  \n",
       "972    부정  현재    미래  불확실    불확실  \n",
       "\n",
       "[973 rows x 10 columns]"
      ]
     },
     "execution_count": 14,
     "metadata": {},
     "output_type": "execute_result"
    }
   ],
   "source": [
    "df = pd.read_csv(\"merged_result.csv\")\n",
    "df"
   ]
  },
  {
   "cell_type": "code",
   "execution_count": 15,
   "id": "20c976b4",
   "metadata": {},
   "outputs": [],
   "source": [
    "neg_df = df[df[\"극성\"] == \"부정\"]"
   ]
  },
  {
   "cell_type": "code",
   "execution_count": 16,
   "id": "d09d1556",
   "metadata": {},
   "outputs": [],
   "source": [
    "neg_df.to_csv('부정.csv', index=False, encoding=\"utf-8-sig\")"
   ]
  },
  {
   "cell_type": "code",
   "execution_count": 54,
   "id": "d95aa158",
   "metadata": {},
   "outputs": [],
   "source": [
    "df_유형 = df[['user_prompt','유형','유형_예측']]\n",
    "df_극성 = df[['user_prompt','극성', '극성_예측']]\n",
    "df_시제 = df[['user_prompt','시제', '시제_예측']]\n",
    "df_확실성 = df[['user_prompt','확실성', '확실성_예측']]"
   ]
  },
  {
   "cell_type": "code",
   "execution_count": 55,
   "id": "5bd817a0",
   "metadata": {},
   "outputs": [],
   "source": [
    "df_유형 = df_유형[df_유형[\"유형\"] != df_유형[\"유형_예측\"]]\n",
    "df_극성 = df_극성[df_극성[\"극성\"] != df_극성[\"극성_예측\"]]\n",
    "df_시제 = df_시제[df_시제[\"시제\"] != df_시제[\"시제_예측\"]]\n",
    "df_확실성 = df_확실성[df_확실성[\"확실성\"] != df_확실성[\"확실성_예측\"]]"
   ]
  },
  {
   "cell_type": "code",
   "execution_count": null,
   "id": "d5d3edfd",
   "metadata": {},
   "outputs": [
    {
     "data": {
      "text/html": [
       "<div>\n",
       "<style scoped>\n",
       "    .dataframe tbody tr th:only-of-type {\n",
       "        vertical-align: middle;\n",
       "    }\n",
       "\n",
       "    .dataframe tbody tr th {\n",
       "        vertical-align: top;\n",
       "    }\n",
       "\n",
       "    .dataframe thead th {\n",
       "        text-align: right;\n",
       "    }\n",
       "</style>\n",
       "<table border=\"1\" class=\"dataframe\">\n",
       "  <thead>\n",
       "    <tr style=\"text-align: right;\">\n",
       "      <th></th>\n",
       "      <th>user_prompt</th>\n",
       "      <th>유형</th>\n",
       "      <th>극성</th>\n",
       "      <th>시제</th>\n",
       "      <th>확실성</th>\n",
       "    </tr>\n",
       "  </thead>\n",
       "  <tbody>\n",
       "    <tr>\n",
       "      <th>0</th>\n",
       "      <td>구글도 1090억달러(2018년 말)에서 1197억달러(2019년 말)로 현금을 높...</td>\n",
       "      <td>대화형</td>\n",
       "      <td>긍정</td>\n",
       "      <td>과거</td>\n",
       "      <td>확실</td>\n",
       "    </tr>\n",
       "    <tr>\n",
       "      <th>1</th>\n",
       "      <td>제 눈에는 실리콘밸리 IT 기업들은 위기가 왔을 때 이를 기회로 바꾸기 위해 준비를...</td>\n",
       "      <td>대화형</td>\n",
       "      <td>긍정</td>\n",
       "      <td>현재</td>\n",
       "      <td>확실</td>\n",
       "    </tr>\n",
       "    <tr>\n",
       "      <th>2</th>\n",
       "      <td>＂그런데 이번엔 계획할 수 없는 너무 큰 이벤트를 맞이하게 돼서 행복해요.＂</td>\n",
       "      <td>대화형</td>\n",
       "      <td>긍정</td>\n",
       "      <td>현재</td>\n",
       "      <td>확실</td>\n",
       "    </tr>\n",
       "    <tr>\n",
       "      <th>3</th>\n",
       "      <td>＇위기는 곧 기회＇라는 격언은 이제 너무나 보편화되어서 모르는 사람이 없을 정도입니다.</td>\n",
       "      <td>대화형</td>\n",
       "      <td>긍정</td>\n",
       "      <td>현재</td>\n",
       "      <td>확실</td>\n",
       "    </tr>\n",
       "    <tr>\n",
       "      <th>4</th>\n",
       "      <td>＂저는 봉준호의 진화를 20년 동안 봐왔어요.＂</td>\n",
       "      <td>대화형</td>\n",
       "      <td>긍정</td>\n",
       "      <td>현재</td>\n",
       "      <td>확실</td>\n",
       "    </tr>\n",
       "    <tr>\n",
       "      <th>...</th>\n",
       "      <td>...</td>\n",
       "      <td>...</td>\n",
       "      <td>...</td>\n",
       "      <td>...</td>\n",
       "      <td>...</td>\n",
       "    </tr>\n",
       "    <tr>\n",
       "      <th>570</th>\n",
       "      <td>＂환자 입장에서 편의성이나 안전성 등은 어떤가?＂</td>\n",
       "      <td>대화형</td>\n",
       "      <td>미정</td>\n",
       "      <td>현재</td>\n",
       "      <td>불확실</td>\n",
       "    </tr>\n",
       "    <tr>\n",
       "      <th>571</th>\n",
       "      <td>＂아마추어 골퍼들이 클럽을 놓지 못하고 붙잡기 때문에 정확한 임팩트가 나오지 않는다...</td>\n",
       "      <td>대화형</td>\n",
       "      <td>긍정</td>\n",
       "      <td>현재</td>\n",
       "      <td>확실</td>\n",
       "    </tr>\n",
       "    <tr>\n",
       "      <th>572</th>\n",
       "      <td>운영 권한을 얻지는 못했지만 실제 자금줄을 보탠 일반 투자자들은 얼마나 정확하고 투...</td>\n",
       "      <td>대화형</td>\n",
       "      <td>긍정</td>\n",
       "      <td>현재</td>\n",
       "      <td>불확실</td>\n",
       "    </tr>\n",
       "    <tr>\n",
       "      <th>573</th>\n",
       "      <td>그 결과 ＇별들의 전쟁＇에서 페덱스컵 랭킹 1위, 상금 랭킹 2위라는 놀라운 성적을...</td>\n",
       "      <td>대화형</td>\n",
       "      <td>긍정</td>\n",
       "      <td>현재</td>\n",
       "      <td>확실</td>\n",
       "    </tr>\n",
       "    <tr>\n",
       "      <th>574</th>\n",
       "      <td>＂모유 수유로 영아에게 코로나가 전염될 위험은?＂</td>\n",
       "      <td>대화형</td>\n",
       "      <td>미정</td>\n",
       "      <td>미래</td>\n",
       "      <td>불확실</td>\n",
       "    </tr>\n",
       "  </tbody>\n",
       "</table>\n",
       "<p>575 rows × 5 columns</p>\n",
       "</div>"
      ],
      "text/plain": [
       "                                           user_prompt   유형  극성  시제  확실성\n",
       "0    구글도 1090억달러(2018년 말)에서 1197억달러(2019년 말)로 현금을 높...  대화형  긍정  과거   확실\n",
       "1    제 눈에는 실리콘밸리 IT 기업들은 위기가 왔을 때 이를 기회로 바꾸기 위해 준비를...  대화형  긍정  현재   확실\n",
       "2           ＂그런데 이번엔 계획할 수 없는 너무 큰 이벤트를 맞이하게 돼서 행복해요.＂  대화형  긍정  현재   확실\n",
       "3     ＇위기는 곧 기회＇라는 격언은 이제 너무나 보편화되어서 모르는 사람이 없을 정도입니다.  대화형  긍정  현재   확실\n",
       "4                           ＂저는 봉준호의 진화를 20년 동안 봐왔어요.＂  대화형  긍정  현재   확실\n",
       "..                                                 ...  ...  ..  ..  ...\n",
       "570                        ＂환자 입장에서 편의성이나 안전성 등은 어떤가?＂  대화형  미정  현재  불확실\n",
       "571  ＂아마추어 골퍼들이 클럽을 놓지 못하고 붙잡기 때문에 정확한 임팩트가 나오지 않는다...  대화형  긍정  현재   확실\n",
       "572  운영 권한을 얻지는 못했지만 실제 자금줄을 보탠 일반 투자자들은 얼마나 정확하고 투...  대화형  긍정  현재  불확실\n",
       "573  그 결과 ＇별들의 전쟁＇에서 페덱스컵 랭킹 1위, 상금 랭킹 2위라는 놀라운 성적을...  대화형  긍정  현재   확실\n",
       "574                        ＂모유 수유로 영아에게 코로나가 전염될 위험은?＂  대화형  미정  미래  불확실\n",
       "\n",
       "[575 rows x 5 columns]"
      ]
     },
     "execution_count": 11,
     "metadata": {},
     "output_type": "execute_result"
    }
   ],
   "source": [
    "a = pd.read_csv(\"대화형.csv\")\n",
    "a"
   ]
  },
  {
   "cell_type": "code",
   "execution_count": 12,
   "id": "3517aea0",
   "metadata": {},
   "outputs": [],
   "source": [
    "a.to_csv(\"대화형.csv\", index=False, encoding=\"utf-8-sig\")"
   ]
  },
  {
   "cell_type": "code",
   "execution_count": 56,
   "id": "7c42c194",
   "metadata": {},
   "outputs": [
    {
     "data": {
      "application/vnd.microsoft.datawrangler.viewer.v0+json": {
       "columns": [
        {
         "name": "index",
         "rawType": "int64",
         "type": "integer"
        },
        {
         "name": "user_prompt",
         "rawType": "object",
         "type": "string"
        },
        {
         "name": "유형",
         "rawType": "object",
         "type": "string"
        },
        {
         "name": "유형_예측",
         "rawType": "object",
         "type": "string"
        }
       ],
       "ref": "dc60fedc-2cb9-432b-ba11-4490fc5e109b",
       "rows": [
        [
         "0",
         "이러한 선거제도는 정당 득표율과 의석수가 비례하지 않고 사표(死票)가 발생하는 등 민심을 제대로 반영하지 못한다는 지적이 나왔습니다.",
         "대화형",
         "추론형"
        ],
        [
         "2",
         "문 대통령이 사전에도 없는 애매한 ＇고용 연장＇을 꺼내 말하고 싶었던 것은 이게 아니었을까.",
         "대화형",
         "추론형"
        ],
        [
         "4",
         "웨지의 그루브가 한 달이면 닳아 없어질 정도로 많은 시간을 투자했다죠.",
         "대화형",
         "추론형"
        ],
        [
         "6",
         "＂그때 제가 했던 수상 소감은 때늦은 게 아니었나 싶어요.＂",
         "대화형",
         "추론형"
        ],
        [
         "7",
         "2013년부터 2019년까지 401K 수익률은 연평균 9.49%나 된다네요.",
         "대화형",
         "사실형"
        ],
        [
         "8",
         "2008년 광우병 사태가 떠올랐다면 지나친 비약일까.",
         "대화형",
         "추론형"
        ],
        [
         "9",
         "두 동강이 나서 싸우고 있는 조국이 그렇게 소중했을까.",
         "대화형",
         "추론형"
        ],
        [
         "11",
         "공공의 이익을 위해서 봉사하겠다는 선한 마음으로 나선 사람이 대부분일 테지만, 불행히도 도둑놈도 껴 있는 경우도 있을 터.",
         "대화형",
         "추론형"
        ],
        [
         "15",
         "특히 이 부회장이 지난해 구속돼 있는 동안 미국 인텔과 대만 TSMC는 공격적으로 EUV 장비 확보에 나선 것으로 알려졌기 때문입니다.",
         "대화형",
         "추론형"
        ],
        [
         "16",
         "어제에 이어 프라이버시 대표 코인인 지코인(XZC)과 지캐시(ZEC)가 각각 36%, 8%로 상승 TOP 10에 이름을 올렸습니다.",
         "대화형",
         "사실형"
        ],
        [
         "17",
         "그래서인지 이번 CES 2020에서는 보다 많은 B2C 회사가 어떻게 하면 그런 기술들로 ＇앞으로 무엇을 할 수 있다＇를 넘어서서 ＇당장 무엇을 할 수 있다＇를 보여주려는 압박을 강하게 받고 있다는 사실을 확인할 수 있었습니다.",
         "대화형",
         "사실형"
        ],
        [
         "18",
         "대부분 프로젝트가 탄생했던 2017년과 2018년을 돌이켜보면 이해할 수 있습니다.",
         "대화형",
         "추론형"
        ],
        [
         "19",
         "연금 선진국인 미국과 호주, 영국 등은 일찌감치 디폴트 옵션을 적용했죠.",
         "대화형",
         "사실형"
        ],
        [
         "20",
         "우곡주를 사장시키고 아무 성과도 내지 못했다는 게 마음의 빚으로 남았고, 그 빚을 갚고자 ＇우곡생주＇를 개발했습니다.",
         "대화형",
         "사실형"
        ],
        [
         "21",
         "그런가 하면 3월 19일 종가 기준 코스피는 1500선 밑으로 떨어졌죠.",
         "대화형",
         "사실형"
        ],
        [
         "22",
         "마니아층이 처음 블록체인에 반한 이유였습니다.",
         "대화형",
         "사실형"
        ],
        [
         "23",
         "3만년 전, 상상하기도 힘들 만큼 오래전 이야기죠.",
         "대화형",
         "추론형"
        ],
        [
         "24",
         "여야 정치권은 그런 우려를 감안해 봉쇄조항을 마련해 군소정당 난립을 어렵게 했습니다.",
         "대화형",
         "사실형"
        ],
        [
         "25",
         "＂장벽은 이미 부서지고 있었거든요.＂",
         "대화형",
         "사실형"
        ],
        [
         "26",
         "아마추어 골퍼들이 몸통 스윙을 쉽게 익힐 수 있는 자신만의 비법도 공개했습니다.",
         "대화형",
         "사실형"
        ],
        [
         "27",
         "＂정부에서 37년 만에 택시 동승 규제를 풀어줘서, 스타트업 입장에서 지난해에는 의미 있는 실험 기회가 주어졌습니다.＂",
         "대화형",
         "사실형"
        ],
        [
         "28",
         "지난 시즌 미국프로골프(PGA) 투어에서 우승 없이 가장 꾸준한 활약을 펼치며 신인상을 차지한 임성재(22·CJ대한통운)는 올 시즌에는 더욱 뜨거운 샷 감각을 선보이며 드디어 꿈에 그리던 우승까지 차지했습니다.",
         "대화형",
         "사실형"
        ],
        [
         "29",
         "반도체 컨설팅업체 테크인사이트의 칩 이코노미스트인 댄 허치슨은 ＂하이 NA EUV는 반도체 기술을 선도하는 차세대 주요 혁신 기술＂이라면서 TSMC가 이를 2024년에 확보함으로써 ＂가장 앞선 기술을 더 빨리 얻게 됐다＂고 짚었습니다.",
         "대화형",
         "사실형"
        ],
        [
         "31",
         "평소 사용하던 얇은 그립보다 조금 두꺼운 그립으로 바꿨죠.",
         "대화형",
         "사실형"
        ],
        [
         "32",
         "＇코로나19가 잡혀가고 있나＇ 희망의 빛이 보일 무렵, ＇대구 17세 소년 사망＇ 뉴스가 나오면서 국민이 다시 패닉에 빠졌습니다.",
         "대화형",
         "사실형"
        ],
        [
         "33",
         "구글도 1090억달러(2018년 말)에서 1197억달러(2019년 말)로 현금을 높여 놨습니다.",
         "대화형",
         "사실형"
        ],
        [
         "34",
         "빙하 속 잠든 신종 바이러스가 깨어났다지난 1월 학술논문 사전공개 사이트인 바이오 아카이브(bioRxiv)에 미·중 공동 연구팀의 흥미로운 연구 결과가 소개됐습니다.",
         "대화형",
         "사실형"
        ],
        [
         "35",
         "그는 KPGA 선수권대회에서 첫 우승을 차지하며 코리안투어 5년 출전권, 미국프로골프(PGA) 투어 더CJ컵 출전권을 받았습니다.",
         "대화형",
         "사실형"
        ],
        [
         "36",
         "신상훈은 지난겨울 100m 웨지샷을 집중적으로 연습했습니다.",
         "대화형",
         "사실형"
        ],
        [
         "37",
         "인공지능과 같은 기술들이 이제는 수도꼭지만 틀면 나오는 수돗물처럼 일상적으로 구매할 수 있는 상품이 되어버린 지금, 수도 배관을 공급해 주는 역할을 하는 이들 기업은 CES에서 울려 퍼진 ＇인공지능 합창＇만큼 좋은 일도 없었을 겁니다(그래서 이들 회사의 주가는 CES 2020 이후 크게 올랐습니다).",
         "대화형",
         "추론형"
        ],
        [
         "38",
         "이들 9개 프로젝트는 모두 설립자이거나 대표이사 1명이 1개 주식으로 회사를 갖고 있었습니다.",
         "대화형",
         "사실형"
        ],
        [
         "39",
         "미국 상장사 중에서 매출이 가장 많은 기업 500개를 담은 S&P500지수는 연일 사상 최고치를 경신하며 6개월 전에 비해 15%가량 상승했습니다.",
         "대화형",
         "사실형"
        ],
        [
         "41",
         "최근 50년 동안 평균 기온이 약 3도 올랐고, 최근엔 남극 기온이 사상 최고인 영상 20도를 기록했습니다.",
         "대화형",
         "사실형"
        ],
        [
         "42",
         "훅을 인수해서 OTT 사업 역량을 내재화한 덕분에 쿠팡플레이를 선보이고 단기간에 ＇국산 OTT 톱3＇ 반열에 오를 수 있었다고.",
         "대화형",
         "추론형"
        ],
        [
         "43",
         "＇코로나19 바이러스를 통해 보지 않았는가.＇",
         "대화형",
         "추론형"
        ],
        [
         "44",
         "썩은 나무가 정치를 좌지우지하고 걸어다니는 시체가 권력을 쥐고 있으니 나라의 불행이 점점 가까이 다가오는구나.",
         "대화형",
         "추론형"
        ],
        [
         "45",
         "역학조사 결과 75년 전 동토층에 매장한 사람과 동물의 사체에서 나온 탄저균이 그 원인이었습니다.",
         "대화형",
         "사실형"
        ],
        [
         "46",
         "지인이 키우는 개 ＇뽀리＇는 이름 때문인지(?) 식구들 양말을 가져가 숨기는 데 진심이란다.",
         "대화형",
         "사실형"
        ],
        [
         "47",
         "TSMC는 바로 반격에 나섰습니다.",
         "대화형",
         "사실형"
        ],
        [
         "49",
         "2015년 연구팀은 1만5000년 전 형성된 티베트 고원(칭장고원)의 굴리야 빙하에 깊이 50m짜리 구멍을 뚫어 얼음 샘플을 채취했습니다.",
         "대화형",
         "사실형"
        ],
        [
         "50",
         "1개 주식으로 100%를 보유한 9곳과, 1명 혹은 1개 회사가 수 개 주식으로 지분을 모두 가진 프로젝트는 27곳이었습니다.",
         "대화형",
         "사실형"
        ],
        [
         "51",
         "아버지가 가르쳐주신 기술들과 사업관, 가치관이 있었기에 여기까지 버티고 왔어요.",
         "대화형",
         "사실형"
        ],
        [
         "52",
         "랜팅은 남극에 서식하는 펭귄들을 찍었는데 사진 속 펭귄들은 하나같이 하얀 눈이 아닌 진흙을 뒤집어쓰고 있었죠.",
         "대화형",
         "사실형"
        ],
        [
         "53",
         "약 550개의 프로젝트 정보를 갖고 있는 가상화폐 공시 플랫폼 쟁글은 프로젝트의 주주 구성을 볼 수 있는 69개 프로젝트를 분석해봤습니다.",
         "대화형",
         "사실형"
        ],
        [
         "54",
         "과학자들은 사망한 소년이 유목민이라는 점을 고려했을 때 따뜻한 날씨에 동토층이 녹으며 사체가 드러났고, 이 사체와 밀접 접촉한 순록들이 탄저균을 사람에게 옮겼을 것이라고 추정했죠.",
         "대화형",
         "추론형"
        ],
        [
         "55",
         "비슷한 시기 지구상엔 인류의 조상인 호모 사피엔스가 처음 등장했습니다.",
         "대화형",
         "사실형"
        ],
        [
         "56",
         "민심이 한번 떠났더라면 양호(정유재란 때 명나라 총사령관)와 이여송(임진왜란 때 명나라 총사령관)의 구원병을 어떻게 먹이고 호남과 영남의 의병들이 어떻게 일어났을 것인가.",
         "대화형",
         "추론형"
        ],
        [
         "57",
         "불호령 같은 규제를 피함과 동시에 ICO 물결에 탑승하기 위한 어쩔 수 없는 선택이기도 했던 것입니다.",
         "대화형",
         "추론형"
        ],
        [
         "58",
         "이 부회장은 지난 14일 에인트호번에 있는 ASML 본사를 방문했습니다.",
         "대화형",
         "사실형"
        ],
        [
         "59",
         "이에 대해 참여연대는 ＂조국 펀드의 불법성을 주장했다는 이유를 들어 김경율 회계사를 비판한 바 없다＂고 밝혀왔습니다.",
         "대화형",
         "사실형"
        ]
       ],
       "shape": {
        "columns": 3,
        "rows": 630
       }
      },
      "text/html": [
       "<div>\n",
       "<style scoped>\n",
       "    .dataframe tbody tr th:only-of-type {\n",
       "        vertical-align: middle;\n",
       "    }\n",
       "\n",
       "    .dataframe tbody tr th {\n",
       "        vertical-align: top;\n",
       "    }\n",
       "\n",
       "    .dataframe thead th {\n",
       "        text-align: right;\n",
       "    }\n",
       "</style>\n",
       "<table border=\"1\" class=\"dataframe\">\n",
       "  <thead>\n",
       "    <tr style=\"text-align: right;\">\n",
       "      <th></th>\n",
       "      <th>user_prompt</th>\n",
       "      <th>유형</th>\n",
       "      <th>유형_예측</th>\n",
       "    </tr>\n",
       "  </thead>\n",
       "  <tbody>\n",
       "    <tr>\n",
       "      <th>0</th>\n",
       "      <td>이러한 선거제도는 정당 득표율과 의석수가 비례하지 않고 사표(死票)가 발생하는 등 ...</td>\n",
       "      <td>대화형</td>\n",
       "      <td>추론형</td>\n",
       "    </tr>\n",
       "    <tr>\n",
       "      <th>2</th>\n",
       "      <td>문 대통령이 사전에도 없는 애매한 ＇고용 연장＇을 꺼내 말하고 싶었던 것은 이게 아...</td>\n",
       "      <td>대화형</td>\n",
       "      <td>추론형</td>\n",
       "    </tr>\n",
       "    <tr>\n",
       "      <th>4</th>\n",
       "      <td>웨지의 그루브가 한 달이면 닳아 없어질 정도로 많은 시간을 투자했다죠.</td>\n",
       "      <td>대화형</td>\n",
       "      <td>추론형</td>\n",
       "    </tr>\n",
       "    <tr>\n",
       "      <th>6</th>\n",
       "      <td>＂그때 제가 했던 수상 소감은 때늦은 게 아니었나 싶어요.＂</td>\n",
       "      <td>대화형</td>\n",
       "      <td>추론형</td>\n",
       "    </tr>\n",
       "    <tr>\n",
       "      <th>7</th>\n",
       "      <td>2013년부터 2019년까지 401K 수익률은 연평균 9.49%나 된다네요.</td>\n",
       "      <td>대화형</td>\n",
       "      <td>사실형</td>\n",
       "    </tr>\n",
       "    <tr>\n",
       "      <th>...</th>\n",
       "      <td>...</td>\n",
       "      <td>...</td>\n",
       "      <td>...</td>\n",
       "    </tr>\n",
       "    <tr>\n",
       "      <th>1384</th>\n",
       "      <td>다만 상황이 좋지 못하다.</td>\n",
       "      <td>추론형</td>\n",
       "      <td>사실형</td>\n",
       "    </tr>\n",
       "    <tr>\n",
       "      <th>1386</th>\n",
       "      <td>울산바위의 정상이라는 게 보통의 산 정상석에 있는, 그야말로 산의 꼭짓점을 뜻하는 ...</td>\n",
       "      <td>추론형</td>\n",
       "      <td>사실형</td>\n",
       "    </tr>\n",
       "    <tr>\n",
       "      <th>1389</th>\n",
       "      <td>한다 빅오픈에서 우승하지는 못했지만 준우승을 차지하며 샷 감각을 끌어올린 터라 갑자...</td>\n",
       "      <td>추론형</td>\n",
       "      <td>사실형</td>\n",
       "    </tr>\n",
       "    <tr>\n",
       "      <th>1390</th>\n",
       "      <td>지난해 하반기 누구보다 뜨거운 샷을 날렸던 김세영도 여유롭지 못하다.</td>\n",
       "      <td>추론형</td>\n",
       "      <td>사실형</td>\n",
       "    </tr>\n",
       "    <tr>\n",
       "      <th>1392</th>\n",
       "      <td>모바일페이는 은행계좌에 연결된 특성상 중국은행망을 거치지 않는 해외결제에서 여전히 ...</td>\n",
       "      <td>추론형</td>\n",
       "      <td>사실형</td>\n",
       "    </tr>\n",
       "  </tbody>\n",
       "</table>\n",
       "<p>630 rows × 3 columns</p>\n",
       "</div>"
      ],
      "text/plain": [
       "                                            user_prompt   유형 유형_예측\n",
       "0     이러한 선거제도는 정당 득표율과 의석수가 비례하지 않고 사표(死票)가 발생하는 등 ...  대화형   추론형\n",
       "2     문 대통령이 사전에도 없는 애매한 ＇고용 연장＇을 꺼내 말하고 싶었던 것은 이게 아...  대화형   추론형\n",
       "4               웨지의 그루브가 한 달이면 닳아 없어질 정도로 많은 시간을 투자했다죠.  대화형   추론형\n",
       "6                     ＂그때 제가 했던 수상 소감은 때늦은 게 아니었나 싶어요.＂  대화형   추론형\n",
       "7            2013년부터 2019년까지 401K 수익률은 연평균 9.49%나 된다네요.  대화형   사실형\n",
       "...                                                 ...  ...   ...\n",
       "1384                                     다만 상황이 좋지 못하다.  추론형   사실형\n",
       "1386  울산바위의 정상이라는 게 보통의 산 정상석에 있는, 그야말로 산의 꼭짓점을 뜻하는 ...  추론형   사실형\n",
       "1389  한다 빅오픈에서 우승하지는 못했지만 준우승을 차지하며 샷 감각을 끌어올린 터라 갑자...  추론형   사실형\n",
       "1390             지난해 하반기 누구보다 뜨거운 샷을 날렸던 김세영도 여유롭지 못하다.  추론형   사실형\n",
       "1392  모바일페이는 은행계좌에 연결된 특성상 중국은행망을 거치지 않는 해외결제에서 여전히 ...  추론형   사실형\n",
       "\n",
       "[630 rows x 3 columns]"
      ]
     },
     "execution_count": 56,
     "metadata": {},
     "output_type": "execute_result"
    }
   ],
   "source": [
    "df_유형"
   ]
  },
  {
   "cell_type": "code",
   "execution_count": 38,
   "id": "0d2177dc",
   "metadata": {},
   "outputs": [],
   "source": [
    "df = pd.read_csv('result/대화형_수정5/result_대화형.csv')"
   ]
  },
  {
   "cell_type": "code",
   "execution_count": 39,
   "id": "6c5a8961",
   "metadata": {},
   "outputs": [],
   "source": [
    "# 분석할 컬럼 쌍\n",
    "pairs = [\n",
    "    (\"유형\", \"유형_예측\"),\n",
    "    (\"극성\", \"극성_예측\"),\n",
    "    (\"시제\", \"시제_예측\"),\n",
    "    (\"확실성\", \"확실성_예측\")\n",
    "]\n",
    "\n",
    "with open(\"result/대화형_수정5/analysis_result.txt\", \"w\", encoding=\"utf-8\") as f:\n",
    "    for true_col, pred_col in pairs:\n",
    "        f.write(f\"\\n=== {true_col} 오답/정답 분포 ===\\n\")\n",
    "        \n",
    "        # (정답, 예측) 조합별 개수\n",
    "        pattern = (\n",
    "            df.groupby([true_col, pred_col])\n",
    "            .size()\n",
    "            .reset_index(name=\"count\")\n",
    "            .sort_values(\"count\", ascending=False)\n",
    "        )\n",
    "        \n",
    "        # 전체 데이터 기준 비율\n",
    "        pattern[\"비율(%)\"] = pattern[\"count\"] / len(df) * 100\n",
    "        \n",
    "        # DataFrame을 문자열로 변환해서 저장\n",
    "        f.write(pattern.to_string(index=False))\n",
    "        f.write(\"\\n\" + \"-\"*50 + \"\\n\")"
   ]
  },
  {
   "cell_type": "code",
   "execution_count": 60,
   "id": "3e79091b",
   "metadata": {},
   "outputs": [
    {
     "data": {
      "image/png": "[encoded data removed]",
      "text/plain": [
       "<Figure size 600x500 with 2 Axes>"
      ]
     },
     "metadata": {},
     "output_type": "display_data"
    },
    {
     "data": {
      "image/png": "[encoded data removed]",
      "text/plain": [
       "<Figure size 600x500 with 2 Axes>"
      ]
     },
     "metadata": {},
     "output_type": "display_data"
    },
    {
     "data": {
      "image/png": "[encoded data removed]",
      "text/plain": [
       "<Figure size 600x500 with 2 Axes>"
      ]
     },
     "metadata": {},
     "output_type": "display_data"
    },
    {
     "data": {
      "image/png": "[encoded data removed]",
      "text/plain": [
       "<Figure size 600x500 with 2 Axes>"
      ]
     },
     "metadata": {},
     "output_type": "display_data"
    }
   ],
   "source": [
    "from matplotlib import pyplot as plt\n",
    "import seaborn as sns\n",
    "import pandas as pd\n",
    "\n",
    "plt.rc(\"font\", family=\"Malgun Gothic\")\n",
    "\n",
    "for true_col, pred_col in pairs:\n",
    "    plt.figure(figsize=(6,5))\n",
    "\n",
    "    # 혼동 행렬 (정답 기준 비율 %)\n",
    "    cm = pd.crosstab(df[true_col], df[pred_col], normalize=\"index\") * 100\n",
    "\n",
    "    # 히트맵 그리기\n",
    "    sns.heatmap(cm, annot=True, fmt=\".1f\", cmap=\"Blues\", cbar=True)\n",
    "\n",
    "    plt.title(f\"{true_col} vs {pred_col} (%)\", fontsize=14)\n",
    "    plt.ylabel(\"정답\", fontsize=12)\n",
    "    plt.xlabel(\"예측\", fontsize=12)\n",
    "    plt.tight_layout()\n",
    "    plt.show()"
   ]
  },
  {
   "cell_type": "code",
   "execution_count": null,
   "id": "aa58043d",
   "metadata": {},
   "outputs": [],
   "source": []
  }
 ],
 "metadata": {
  "kernelspec": {
   "display_name": "base",
   "language": "python",
   "name": "python3"
  },
  "language_info": {
   "codemirror_mode": {
    "name": "ipython",
    "version": 3
   },
   "file_extension": ".py",
   "mimetype": "text/x-python",
   "name": "python",
   "nbconvert_exporter": "python",
   "pygments_lexer": "ipython3",
   "version": "3.12.7"
  }
 },
 "nbformat": 4,
 "nbformat_minor": 5
}
